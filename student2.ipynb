{
  "nbformat": 4,
  "nbformat_minor": 0,
  "metadata": {
    "colab": {
      "provenance": [],
      "authorship_tag": "ABX9TyOS6WmWuxoZh3HTYS4N5XSo",
      "include_colab_link": true
    },
    "kernelspec": {
      "name": "python3",
      "display_name": "Python 3"
    },
    "language_info": {
      "name": "python"
    }
  },
  "cells": [
    {
      "cell_type": "markdown",
      "metadata": {
        "id": "view-in-github",
        "colab_type": "text"
      },
      "source": [
        "<a href=\"https://colab.research.google.com/github/Charangr/wearable-sensor-data/blob/main/student2.ipynb\" target=\"_parent\"><img src=\"https://colab.research.google.com/assets/colab-badge.svg\" alt=\"Open In Colab\"/></a>"
      ]
    },
    {
      "cell_type": "markdown",
      "source": [
        "student 2 data set"
      ],
      "metadata": {
        "id": "e9xtRqqYWv3G"
      }
    },
    {
      "cell_type": "code",
      "execution_count": null,
      "metadata": {
        "colab": {
          "base_uri": "https://localhost:8080/"
        },
        "id": "di4a-sr1KNks",
        "outputId": "0e715bdd-1bef-46cc-fc62-30b11591ba86"
      },
      "outputs": [
        {
          "output_type": "stream",
          "name": "stdout",
          "text": [
            "Mounted at /content/drive\n"
          ]
        }
      ],
      "source": [
        "from google.colab import drive\n",
        "drive.mount('/content/drive')"
      ]
    },
    {
      "cell_type": "code",
      "source": [
        "import os\n",
        "\n",
        "folder_path = \"/content/drive/MyDrive/data\""
      ],
      "metadata": {
        "id": "4UkWV5nxKR2R"
      },
      "execution_count": null,
      "outputs": []
    },
    {
      "cell_type": "code",
      "source": [
        "import os\n",
        "\n",
        "# Set the correct data path for Student 2\n",
        "data_dir = \"/content/drive/MyDrive/data/S2/\"\n",
        "\n",
        "# List all files in the directory\n",
        "files = os.listdir(data_dir)\n",
        "\n",
        "# Display available files\n",
        "print(\"📂 Available Files in Directory:\")\n",
        "for file in files:\n",
        "    print(file)\n"
      ],
      "metadata": {
        "colab": {
          "base_uri": "https://localhost:8080/"
        },
        "id": "OCSWIaiVDZnl",
        "outputId": "7bf7de4f-d22d-4f22-8ac9-f43ff639aefe"
      },
      "execution_count": null,
      "outputs": [
        {
          "output_type": "stream",
          "name": "stdout",
          "text": [
            "📂 Available Files in Directory:\n",
            "Midterm 2\n",
            "Final\n",
            "Midterm 1\n"
          ]
        }
      ]
    },
    {
      "cell_type": "code",
      "source": [
        "import os\n",
        "\n",
        "data_dir = \"/content/drive/MyDrive/data/S2/\"\n",
        "\n",
        "# Check each exam folder\n",
        "folders = [\"Midterm 1\", \"Midterm 2\", \"Final\"]\n",
        "\n",
        "for folder in folders:\n",
        "    folder_path = os.path.join(data_dir, folder)\n",
        "    if os.path.exists(folder_path):\n",
        "        print(f\"\\n📂 Files inside {folder}:\")\n",
        "        print(os.listdir(folder_path))\n",
        "    else:\n",
        "        print(f\"⚠️ Folder {folder} does not exist!\")\n"
      ],
      "metadata": {
        "colab": {
          "base_uri": "https://localhost:8080/"
        },
        "id": "-6WpGZtbFKWt",
        "outputId": "362137f2-b58f-4daf-87c0-7c76d9e16592"
      },
      "execution_count": null,
      "outputs": [
        {
          "output_type": "stream",
          "name": "stdout",
          "text": [
            "\n",
            "📂 Files inside Midterm 1:\n",
            "['HR.csv', 'IBI.csv', 'info.txt', 'tags.csv', 'EDA.csv', 'BVP.csv', 'TEMP.csv', 'ACC.csv']\n",
            "\n",
            "📂 Files inside Midterm 2:\n",
            "['info.txt', 'HR.csv', 'BVP.csv', 'ACC.csv', 'TEMP.csv', 'tags.csv', 'IBI.csv', 'EDA.csv']\n",
            "\n",
            "📂 Files inside Final:\n",
            "['info.txt', 'tags.csv', 'IBI.csv', 'ACC.csv', 'HR.csv', 'BVP.csv', 'EDA.csv', 'TEMP.csv']\n"
          ]
        }
      ]
    },
    {
      "cell_type": "code",
      "source": [
        "import pandas as pd\n",
        "import os\n",
        "\n",
        "# Define base directory\n",
        "data_dir = \"/content/drive/MyDrive/data/S2/\"\n",
        "\n",
        "# Define exam folders\n",
        "exam_folders = [\"Midterm 1\", \"Midterm 2\", \"Final\"]\n",
        "\n",
        "# Initialize list to store processed dataframes\n",
        "merged_dataframes = []\n",
        "\n",
        "# Function to load and process each exam dataset\n",
        "def process_exam(exam_name, exam_path):\n",
        "    print(f\"📂 Processing: {exam_name}\")\n",
        "\n",
        "    # Define file paths\n",
        "    file_paths = {\n",
        "        \"HR\": os.path.join(exam_path, \"HR.csv\"),\n",
        "        \"EDA\": os.path.join(exam_path, \"EDA.csv\"),\n",
        "        \"TEMP\": os.path.join(exam_path, \"TEMP.csv\"),\n",
        "        \"IBI\": os.path.join(exam_path, \"IBI.csv\"),\n",
        "        \"ACC\": os.path.join(exam_path, \"ACC.csv\"),\n",
        "    }\n",
        "\n",
        "    # Load data\n",
        "    df_hr = pd.read_csv(file_paths[\"HR\"], header=None, skiprows=2, names=[\"HR\"])\n",
        "    df_eda = pd.read_csv(file_paths[\"EDA\"], header=None, skiprows=2, names=[\"EDA\"])\n",
        "    df_temp = pd.read_csv(file_paths[\"TEMP\"], header=None, skiprows=2, names=[\"TEMP\"])\n",
        "    df_ibi = pd.read_csv(file_paths[\"IBI\"], header=None, skiprows=1, names=[\"IBI_Time\", \"IBI\"])\n",
        "    df_acc = pd.read_csv(file_paths[\"ACC\"], header=None, skiprows=2, names=[\"X\", \"Y\", \"Z\"])\n",
        "\n",
        "    # Read first row as start timestamp\n",
        "    start_time = pd.to_datetime(float(pd.read_csv(file_paths[\"HR\"], header=None).iloc[0, 0]), unit='s')\n",
        "\n",
        "    # Assign timestamps based on sampling rates\n",
        "    hr_sampling_rate = int(pd.read_csv(file_paths[\"HR\"], header=None).iloc[1, 0])\n",
        "    eda_temp_sampling_rate = int(pd.read_csv(file_paths[\"EDA\"], header=None).iloc[1, 0])\n",
        "    acc_sampling_rate = int(pd.read_csv(file_paths[\"ACC\"], header=None).iloc[1, 0])\n",
        "\n",
        "    df_hr[\"Timestamp\"] = pd.date_range(start=start_time, periods=len(df_hr), freq=f\"{int(1000/hr_sampling_rate)}ms\")\n",
        "    df_eda[\"Timestamp\"] = pd.date_range(start=start_time, periods=len(df_eda), freq=f\"{int(1000/eda_temp_sampling_rate)}ms\")\n",
        "    df_temp[\"Timestamp\"] = pd.date_range(start=start_time, periods=len(df_temp), freq=f\"{int(1000/eda_temp_sampling_rate)}ms\")\n",
        "    df_acc[\"Timestamp\"] = pd.date_range(start=start_time, periods=len(df_acc), freq=f\"{int(1000/acc_sampling_rate)}ms\")\n",
        "\n",
        "    # Convert IBI timestamp relative to start time\n",
        "    df_ibi[\"Timestamp\"] = start_time + pd.to_timedelta(df_ibi[\"IBI_Time\"], unit=\"s\")\n",
        "    df_ibi.drop(columns=[\"IBI_Time\"], inplace=True)\n",
        "\n",
        "    # Merge all data\n",
        "    df_merge = df_hr.merge(df_eda, on=\"Timestamp\", how=\"outer\")\\\n",
        "                    .merge(df_temp, on=\"Timestamp\", how=\"outer\")\\\n",
        "                    .merge(df_ibi, on=\"Timestamp\", how=\"outer\")\\\n",
        "                    .merge(df_acc, on=\"Timestamp\", how=\"outer\")\n",
        "\n",
        "    # Add exam label\n",
        "    df_merge[\"Exam\"] = exam_name\n",
        "\n",
        "    return df_merge\n",
        "\n",
        "# Process each exam and store in list\n",
        "for exam in exam_folders:\n",
        "    exam_path = os.path.join(data_dir, exam)\n",
        "    df_exam = process_exam(exam, exam_path)\n",
        "    merged_dataframes.append(df_exam)\n",
        "\n",
        "# Concatenate all exams into a single dataset\n",
        "final_df = pd.concat(merged_dataframes, ignore_index=True)\n",
        "\n",
        "# Sort by timestamp\n",
        "final_df = final_df.sort_values(by=\"Timestamp\").reset_index(drop=True)\n",
        "\n",
        "# Display summary\n",
        "print(f\"✅ Final Merged Dataset Shape: {final_df.shape}\")\n",
        "print(final_df.head(10))  # Show first 10 rows\n",
        "\n",
        "# Save to CSV\n",
        "final_df.to_csv(\"/content/drive/MyDrive/data/S2/Final_Merged_Dataset.csv\", index=False)\n",
        "print(\"✅ Merged dataset saved successfully!\")\n"
      ],
      "metadata": {
        "colab": {
          "base_uri": "https://localhost:8080/"
        },
        "id": "NtywZGEvFcHT",
        "outputId": "2a439658-d030-4639-dd93-f2b7bbc16870"
      },
      "execution_count": null,
      "outputs": [
        {
          "output_type": "stream",
          "name": "stdout",
          "text": [
            "📂 Processing: Midterm 1\n",
            "📂 Processing: Midterm 2\n",
            "📂 Processing: Final\n",
            "✅ Final Merged Dataset Shape: (1847966, 9)\n",
            "     HR               Timestamp       EDA   TEMP  IBI    X     Y     Z  \\\n",
            "0  85.0 2018-10-13 12:55:55.000  0.000000  22.63  NaN  0.0 -62.0  10.0   \n",
            "1   NaN 2018-10-13 12:55:55.031       NaN    NaN  NaN  0.0 -62.0  10.0   \n",
            "2   NaN 2018-10-13 12:55:55.062       NaN    NaN  NaN  0.0 -62.0  10.0   \n",
            "3   NaN 2018-10-13 12:55:55.093       NaN    NaN  NaN  0.0 -62.0  11.0   \n",
            "4   NaN 2018-10-13 12:55:55.124       NaN    NaN  NaN  0.0 -62.0  10.0   \n",
            "5   NaN 2018-10-13 12:55:55.155       NaN    NaN  NaN  0.0 -62.0  10.0   \n",
            "6   NaN 2018-10-13 12:55:55.186       NaN    NaN  NaN  0.0 -63.0  10.0   \n",
            "7   NaN 2018-10-13 12:55:55.217       NaN    NaN  NaN  0.0 -62.0  11.0   \n",
            "8   NaN 2018-10-13 12:55:55.248       NaN    NaN  NaN  0.0 -63.0  11.0   \n",
            "9   NaN 2018-10-13 12:55:55.250  0.003844  22.63  NaN  NaN   NaN   NaN   \n",
            "\n",
            "        Exam  \n",
            "0  Midterm 1  \n",
            "1  Midterm 1  \n",
            "2  Midterm 1  \n",
            "3  Midterm 1  \n",
            "4  Midterm 1  \n",
            "5  Midterm 1  \n",
            "6  Midterm 1  \n",
            "7  Midterm 1  \n",
            "8  Midterm 1  \n",
            "9  Midterm 1  \n",
            "✅ Merged dataset saved successfully!\n"
          ]
        }
      ]
    },
    {
      "cell_type": "code",
      "source": [
        "import os\n",
        "print(os.listdir(\"/content/drive/MyDrive/data/S2/\"))\n"
      ],
      "metadata": {
        "colab": {
          "base_uri": "https://localhost:8080/"
        },
        "id": "l-waFg4YItog",
        "outputId": "469ef7a0-bd45-4a8b-9c63-4e5744ea3bb4"
      },
      "execution_count": null,
      "outputs": [
        {
          "output_type": "stream",
          "name": "stdout",
          "text": [
            "['Midterm 2', 'Final', 'Midterm 1', 'Final_Merged_Dataset.csv']\n"
          ]
        }
      ]
    },
    {
      "cell_type": "code",
      "source": [
        "import pandas as pd\n",
        "\n",
        "# Define the file path\n",
        "file_path = \"/content/drive/MyDrive/data/S2/Final_Merged_Dataset.csv\"\n",
        "\n",
        "# Load the dataset\n",
        "df = pd.read_csv(file_path)\n",
        "\n",
        "# Display basic info and first few rows\n",
        "df.info()\n",
        "df.head()\n"
      ],
      "metadata": {
        "colab": {
          "base_uri": "https://localhost:8080/",
          "height": 484
        },
        "id": "sHsYWTanJSoR",
        "outputId": "d1177a79-f2b0-429f-f58e-94f3eb2292fc"
      },
      "execution_count": null,
      "outputs": [
        {
          "output_type": "stream",
          "name": "stdout",
          "text": [
            "<class 'pandas.core.frame.DataFrame'>\n",
            "RangeIndex: 1847966 entries, 0 to 1847965\n",
            "Data columns (total 9 columns):\n",
            " #   Column     Dtype  \n",
            "---  ------     -----  \n",
            " 0   HR         float64\n",
            " 1   Timestamp  object \n",
            " 2   EDA        float64\n",
            " 3   TEMP       float64\n",
            " 4   IBI        float64\n",
            " 5   X          float64\n",
            " 6   Y          float64\n",
            " 7   Z          float64\n",
            " 8   Exam       object \n",
            "dtypes: float64(7), object(2)\n",
            "memory usage: 126.9+ MB\n"
          ]
        },
        {
          "output_type": "execute_result",
          "data": {
            "text/plain": [
              "     HR                      Timestamp  EDA   TEMP  IBI    X     Y     Z  \\\n",
              "0  85.0  2018-10-13 12:55:55.000000000  0.0  22.63  NaN  0.0 -62.0  10.0   \n",
              "1   NaN  2018-10-13 12:55:55.031000000  NaN    NaN  NaN  0.0 -62.0  10.0   \n",
              "2   NaN  2018-10-13 12:55:55.062000000  NaN    NaN  NaN  0.0 -62.0  10.0   \n",
              "3   NaN  2018-10-13 12:55:55.093000000  NaN    NaN  NaN  0.0 -62.0  11.0   \n",
              "4   NaN  2018-10-13 12:55:55.124000000  NaN    NaN  NaN  0.0 -62.0  10.0   \n",
              "\n",
              "        Exam  \n",
              "0  Midterm 1  \n",
              "1  Midterm 1  \n",
              "2  Midterm 1  \n",
              "3  Midterm 1  \n",
              "4  Midterm 1  "
            ],
            "text/html": [
              "\n",
              "  <div id=\"df-8c9cbdac-5f43-4350-b6a7-5497726c3191\" class=\"colab-df-container\">\n",
              "    <div>\n",
              "<style scoped>\n",
              "    .dataframe tbody tr th:only-of-type {\n",
              "        vertical-align: middle;\n",
              "    }\n",
              "\n",
              "    .dataframe tbody tr th {\n",
              "        vertical-align: top;\n",
              "    }\n",
              "\n",
              "    .dataframe thead th {\n",
              "        text-align: right;\n",
              "    }\n",
              "</style>\n",
              "<table border=\"1\" class=\"dataframe\">\n",
              "  <thead>\n",
              "    <tr style=\"text-align: right;\">\n",
              "      <th></th>\n",
              "      <th>HR</th>\n",
              "      <th>Timestamp</th>\n",
              "      <th>EDA</th>\n",
              "      <th>TEMP</th>\n",
              "      <th>IBI</th>\n",
              "      <th>X</th>\n",
              "      <th>Y</th>\n",
              "      <th>Z</th>\n",
              "      <th>Exam</th>\n",
              "    </tr>\n",
              "  </thead>\n",
              "  <tbody>\n",
              "    <tr>\n",
              "      <th>0</th>\n",
              "      <td>85.0</td>\n",
              "      <td>2018-10-13 12:55:55.000000000</td>\n",
              "      <td>0.0</td>\n",
              "      <td>22.63</td>\n",
              "      <td>NaN</td>\n",
              "      <td>0.0</td>\n",
              "      <td>-62.0</td>\n",
              "      <td>10.0</td>\n",
              "      <td>Midterm 1</td>\n",
              "    </tr>\n",
              "    <tr>\n",
              "      <th>1</th>\n",
              "      <td>NaN</td>\n",
              "      <td>2018-10-13 12:55:55.031000000</td>\n",
              "      <td>NaN</td>\n",
              "      <td>NaN</td>\n",
              "      <td>NaN</td>\n",
              "      <td>0.0</td>\n",
              "      <td>-62.0</td>\n",
              "      <td>10.0</td>\n",
              "      <td>Midterm 1</td>\n",
              "    </tr>\n",
              "    <tr>\n",
              "      <th>2</th>\n",
              "      <td>NaN</td>\n",
              "      <td>2018-10-13 12:55:55.062000000</td>\n",
              "      <td>NaN</td>\n",
              "      <td>NaN</td>\n",
              "      <td>NaN</td>\n",
              "      <td>0.0</td>\n",
              "      <td>-62.0</td>\n",
              "      <td>10.0</td>\n",
              "      <td>Midterm 1</td>\n",
              "    </tr>\n",
              "    <tr>\n",
              "      <th>3</th>\n",
              "      <td>NaN</td>\n",
              "      <td>2018-10-13 12:55:55.093000000</td>\n",
              "      <td>NaN</td>\n",
              "      <td>NaN</td>\n",
              "      <td>NaN</td>\n",
              "      <td>0.0</td>\n",
              "      <td>-62.0</td>\n",
              "      <td>11.0</td>\n",
              "      <td>Midterm 1</td>\n",
              "    </tr>\n",
              "    <tr>\n",
              "      <th>4</th>\n",
              "      <td>NaN</td>\n",
              "      <td>2018-10-13 12:55:55.124000000</td>\n",
              "      <td>NaN</td>\n",
              "      <td>NaN</td>\n",
              "      <td>NaN</td>\n",
              "      <td>0.0</td>\n",
              "      <td>-62.0</td>\n",
              "      <td>10.0</td>\n",
              "      <td>Midterm 1</td>\n",
              "    </tr>\n",
              "  </tbody>\n",
              "</table>\n",
              "</div>\n",
              "    <div class=\"colab-df-buttons\">\n",
              "\n",
              "  <div class=\"colab-df-container\">\n",
              "    <button class=\"colab-df-convert\" onclick=\"convertToInteractive('df-8c9cbdac-5f43-4350-b6a7-5497726c3191')\"\n",
              "            title=\"Convert this dataframe to an interactive table.\"\n",
              "            style=\"display:none;\">\n",
              "\n",
              "  <svg xmlns=\"http://www.w3.org/2000/svg\" height=\"24px\" viewBox=\"0 -960 960 960\">\n",
              "    <path d=\"M120-120v-720h720v720H120Zm60-500h600v-160H180v160Zm220 220h160v-160H400v160Zm0 220h160v-160H400v160ZM180-400h160v-160H180v160Zm440 0h160v-160H620v160ZM180-180h160v-160H180v160Zm440 0h160v-160H620v160Z\"/>\n",
              "  </svg>\n",
              "    </button>\n",
              "\n",
              "  <style>\n",
              "    .colab-df-container {\n",
              "      display:flex;\n",
              "      gap: 12px;\n",
              "    }\n",
              "\n",
              "    .colab-df-convert {\n",
              "      background-color: #E8F0FE;\n",
              "      border: none;\n",
              "      border-radius: 50%;\n",
              "      cursor: pointer;\n",
              "      display: none;\n",
              "      fill: #1967D2;\n",
              "      height: 32px;\n",
              "      padding: 0 0 0 0;\n",
              "      width: 32px;\n",
              "    }\n",
              "\n",
              "    .colab-df-convert:hover {\n",
              "      background-color: #E2EBFA;\n",
              "      box-shadow: 0px 1px 2px rgba(60, 64, 67, 0.3), 0px 1px 3px 1px rgba(60, 64, 67, 0.15);\n",
              "      fill: #174EA6;\n",
              "    }\n",
              "\n",
              "    .colab-df-buttons div {\n",
              "      margin-bottom: 4px;\n",
              "    }\n",
              "\n",
              "    [theme=dark] .colab-df-convert {\n",
              "      background-color: #3B4455;\n",
              "      fill: #D2E3FC;\n",
              "    }\n",
              "\n",
              "    [theme=dark] .colab-df-convert:hover {\n",
              "      background-color: #434B5C;\n",
              "      box-shadow: 0px 1px 3px 1px rgba(0, 0, 0, 0.15);\n",
              "      filter: drop-shadow(0px 1px 2px rgba(0, 0, 0, 0.3));\n",
              "      fill: #FFFFFF;\n",
              "    }\n",
              "  </style>\n",
              "\n",
              "    <script>\n",
              "      const buttonEl =\n",
              "        document.querySelector('#df-8c9cbdac-5f43-4350-b6a7-5497726c3191 button.colab-df-convert');\n",
              "      buttonEl.style.display =\n",
              "        google.colab.kernel.accessAllowed ? 'block' : 'none';\n",
              "\n",
              "      async function convertToInteractive(key) {\n",
              "        const element = document.querySelector('#df-8c9cbdac-5f43-4350-b6a7-5497726c3191');\n",
              "        const dataTable =\n",
              "          await google.colab.kernel.invokeFunction('convertToInteractive',\n",
              "                                                    [key], {});\n",
              "        if (!dataTable) return;\n",
              "\n",
              "        const docLinkHtml = 'Like what you see? Visit the ' +\n",
              "          '<a target=\"_blank\" href=https://colab.research.google.com/notebooks/data_table.ipynb>data table notebook</a>'\n",
              "          + ' to learn more about interactive tables.';\n",
              "        element.innerHTML = '';\n",
              "        dataTable['output_type'] = 'display_data';\n",
              "        await google.colab.output.renderOutput(dataTable, element);\n",
              "        const docLink = document.createElement('div');\n",
              "        docLink.innerHTML = docLinkHtml;\n",
              "        element.appendChild(docLink);\n",
              "      }\n",
              "    </script>\n",
              "  </div>\n",
              "\n",
              "\n",
              "<div id=\"df-76c8f574-4a75-423b-a3bc-6ab60cbef7ab\">\n",
              "  <button class=\"colab-df-quickchart\" onclick=\"quickchart('df-76c8f574-4a75-423b-a3bc-6ab60cbef7ab')\"\n",
              "            title=\"Suggest charts\"\n",
              "            style=\"display:none;\">\n",
              "\n",
              "<svg xmlns=\"http://www.w3.org/2000/svg\" height=\"24px\"viewBox=\"0 0 24 24\"\n",
              "     width=\"24px\">\n",
              "    <g>\n",
              "        <path d=\"M19 3H5c-1.1 0-2 .9-2 2v14c0 1.1.9 2 2 2h14c1.1 0 2-.9 2-2V5c0-1.1-.9-2-2-2zM9 17H7v-7h2v7zm4 0h-2V7h2v10zm4 0h-2v-4h2v4z\"/>\n",
              "    </g>\n",
              "</svg>\n",
              "  </button>\n",
              "\n",
              "<style>\n",
              "  .colab-df-quickchart {\n",
              "      --bg-color: #E8F0FE;\n",
              "      --fill-color: #1967D2;\n",
              "      --hover-bg-color: #E2EBFA;\n",
              "      --hover-fill-color: #174EA6;\n",
              "      --disabled-fill-color: #AAA;\n",
              "      --disabled-bg-color: #DDD;\n",
              "  }\n",
              "\n",
              "  [theme=dark] .colab-df-quickchart {\n",
              "      --bg-color: #3B4455;\n",
              "      --fill-color: #D2E3FC;\n",
              "      --hover-bg-color: #434B5C;\n",
              "      --hover-fill-color: #FFFFFF;\n",
              "      --disabled-bg-color: #3B4455;\n",
              "      --disabled-fill-color: #666;\n",
              "  }\n",
              "\n",
              "  .colab-df-quickchart {\n",
              "    background-color: var(--bg-color);\n",
              "    border: none;\n",
              "    border-radius: 50%;\n",
              "    cursor: pointer;\n",
              "    display: none;\n",
              "    fill: var(--fill-color);\n",
              "    height: 32px;\n",
              "    padding: 0;\n",
              "    width: 32px;\n",
              "  }\n",
              "\n",
              "  .colab-df-quickchart:hover {\n",
              "    background-color: var(--hover-bg-color);\n",
              "    box-shadow: 0 1px 2px rgba(60, 64, 67, 0.3), 0 1px 3px 1px rgba(60, 64, 67, 0.15);\n",
              "    fill: var(--button-hover-fill-color);\n",
              "  }\n",
              "\n",
              "  .colab-df-quickchart-complete:disabled,\n",
              "  .colab-df-quickchart-complete:disabled:hover {\n",
              "    background-color: var(--disabled-bg-color);\n",
              "    fill: var(--disabled-fill-color);\n",
              "    box-shadow: none;\n",
              "  }\n",
              "\n",
              "  .colab-df-spinner {\n",
              "    border: 2px solid var(--fill-color);\n",
              "    border-color: transparent;\n",
              "    border-bottom-color: var(--fill-color);\n",
              "    animation:\n",
              "      spin 1s steps(1) infinite;\n",
              "  }\n",
              "\n",
              "  @keyframes spin {\n",
              "    0% {\n",
              "      border-color: transparent;\n",
              "      border-bottom-color: var(--fill-color);\n",
              "      border-left-color: var(--fill-color);\n",
              "    }\n",
              "    20% {\n",
              "      border-color: transparent;\n",
              "      border-left-color: var(--fill-color);\n",
              "      border-top-color: var(--fill-color);\n",
              "    }\n",
              "    30% {\n",
              "      border-color: transparent;\n",
              "      border-left-color: var(--fill-color);\n",
              "      border-top-color: var(--fill-color);\n",
              "      border-right-color: var(--fill-color);\n",
              "    }\n",
              "    40% {\n",
              "      border-color: transparent;\n",
              "      border-right-color: var(--fill-color);\n",
              "      border-top-color: var(--fill-color);\n",
              "    }\n",
              "    60% {\n",
              "      border-color: transparent;\n",
              "      border-right-color: var(--fill-color);\n",
              "    }\n",
              "    80% {\n",
              "      border-color: transparent;\n",
              "      border-right-color: var(--fill-color);\n",
              "      border-bottom-color: var(--fill-color);\n",
              "    }\n",
              "    90% {\n",
              "      border-color: transparent;\n",
              "      border-bottom-color: var(--fill-color);\n",
              "    }\n",
              "  }\n",
              "</style>\n",
              "\n",
              "  <script>\n",
              "    async function quickchart(key) {\n",
              "      const quickchartButtonEl =\n",
              "        document.querySelector('#' + key + ' button');\n",
              "      quickchartButtonEl.disabled = true;  // To prevent multiple clicks.\n",
              "      quickchartButtonEl.classList.add('colab-df-spinner');\n",
              "      try {\n",
              "        const charts = await google.colab.kernel.invokeFunction(\n",
              "            'suggestCharts', [key], {});\n",
              "      } catch (error) {\n",
              "        console.error('Error during call to suggestCharts:', error);\n",
              "      }\n",
              "      quickchartButtonEl.classList.remove('colab-df-spinner');\n",
              "      quickchartButtonEl.classList.add('colab-df-quickchart-complete');\n",
              "    }\n",
              "    (() => {\n",
              "      let quickchartButtonEl =\n",
              "        document.querySelector('#df-76c8f574-4a75-423b-a3bc-6ab60cbef7ab button');\n",
              "      quickchartButtonEl.style.display =\n",
              "        google.colab.kernel.accessAllowed ? 'block' : 'none';\n",
              "    })();\n",
              "  </script>\n",
              "</div>\n",
              "\n",
              "    </div>\n",
              "  </div>\n"
            ],
            "application/vnd.google.colaboratory.intrinsic+json": {
              "type": "dataframe",
              "variable_name": "df"
            }
          },
          "metadata": {},
          "execution_count": 28
        }
      ]
    },
    {
      "cell_type": "code",
      "source": [
        "# Count missing values per column\n",
        "missing_values = df.isnull().sum()\n",
        "missing_values_percentage = (missing_values / len(df)) * 100\n",
        "\n",
        "# Display missing values count and percentage\n",
        "print(\"Missing Values Count:\\n\", missing_values)\n",
        "print(\"\\nMissing Values Percentage:\\n\", missing_values_percentage)\n"
      ],
      "metadata": {
        "colab": {
          "base_uri": "https://localhost:8080/"
        },
        "id": "y9HY0XxsJqS1",
        "outputId": "e123b053-c9f6-4c78-a29c-c88edc04c033"
      },
      "execution_count": null,
      "outputs": [
        {
          "output_type": "stream",
          "name": "stdout",
          "text": [
            "Missing Values Count:\n",
            " HR           1796789\n",
            "Timestamp          0\n",
            "EDA          1643150\n",
            "TEMP         1643150\n",
            "IBI          1836856\n",
            "X             209372\n",
            "Y             209372\n",
            "Z             209372\n",
            "Exam               0\n",
            "dtype: int64\n",
            "\n",
            "Missing Values Percentage:\n",
            " HR           97.230631\n",
            "Timestamp     0.000000\n",
            "EDA          88.916679\n",
            "TEMP         88.916679\n",
            "IBI          99.398798\n",
            "X            11.329862\n",
            "Y            11.329862\n",
            "Z            11.329862\n",
            "Exam          0.000000\n",
            "dtype: float64\n"
          ]
        }
      ]
    },
    {
      "cell_type": "code",
      "source": [
        "import missingno as msno\n",
        "import matplotlib.pyplot as plt\n",
        "\n",
        "# Missing values heatmap\n",
        "plt.figure(figsize=(10, 6))\n",
        "msno.heatmap(df, cmap='viridis')\n",
        "plt.title(\"Missing Values Heatmap\")\n",
        "plt.show()\n",
        "\n",
        "\n"
      ],
      "metadata": {
        "colab": {
          "base_uri": "https://localhost:8080/",
          "height": 649
        },
        "id": "_Kb52wiXJxGf",
        "outputId": "7fd20156-cf36-4b21-81b6-dde7c18ea142"
      },
      "execution_count": null,
      "outputs": [
        {
          "output_type": "display_data",
          "data": {
            "text/plain": [
              "<Figure size 1000x600 with 0 Axes>"
            ]
          },
          "metadata": {}
        },
        {
          "output_type": "display_data",
          "data": {
            "text/plain": [
              "<Figure size 2000x1200 with 2 Axes>"
            ],
            "image/png": "[encoded data removed]"
          },
          "metadata": {}
        }
      ]
    },
    {
      "cell_type": "code",
      "source": [
        "# Missing values bar chart\n",
        "plt.figure(figsize=(10, 6))\n",
        "msno.bar(df)\n",
        "plt.title(\"Missing Data Overview\")\n",
        "plt.show()"
      ],
      "metadata": {
        "colab": {
          "base_uri": "https://localhost:8080/",
          "height": 449
        },
        "id": "h4xT3DugM0UN",
        "outputId": "e8a8fb0f-c641-4d46-b167-5910e7f0e0c8"
      },
      "execution_count": null,
      "outputs": [
        {
          "output_type": "display_data",
          "data": {
            "text/plain": [
              "<Figure size 2500x1000 with 3 Axes>"
            ],
            "image/png": "[encoded data removed]"
          },
          "metadata": {}
        }
      ]
    },
    {
      "cell_type": "code",
      "source": [
        "import seaborn as sns\n",
        "\n",
        "# Create a missing indicator matrix\n",
        "missing_indicators = df.isnull().astype(int)\n",
        "\n",
        "# Compute correlation\n",
        "corr_matrix = missing_indicators.corr()\n",
        "\n",
        "# Plot the heatmap\n",
        "plt.figure(figsize=(8, 6))\n",
        "sns.heatmap(corr_matrix, annot=True, cmap=\"coolwarm\", fmt=\".2f\")\n",
        "plt.title(\"Correlation of Missing Values\")\n",
        "plt.show()\n"
      ],
      "metadata": {
        "colab": {
          "base_uri": "https://localhost:8080/",
          "height": 545
        },
        "id": "9RYjxFpkKBjt",
        "outputId": "ddc26e3f-f9e8-4054-cfc2-b6ad976407a8"
      },
      "execution_count": null,
      "outputs": [
        {
          "output_type": "display_data",
          "data": {
            "text/plain": [
              "<Figure size 800x600 with 2 Axes>"
            ],
            "image/png": "[encoded data removed]"
          },
          "metadata": {}
        }
      ]
    },
    {
      "cell_type": "code",
      "source": [
        "import pandas as pd\n",
        "import numpy as np\n",
        "from sklearn.impute import KNNImputer\n",
        "\n",
        "# Load the merged dataset\n",
        "file_path = \"/content/drive/MyDrive/data/S2/Final_Merged_Dataset.csv\"\n",
        "df = pd.read_csv(file_path)\n",
        "df['Timestamp'] = pd.to_datetime(df['Timestamp'])\n",
        "df = df.sort_values('Timestamp').reset_index(drop=True)\n",
        "\n",
        "# Fill missing values using forward fill then backward fill (updated syntax)\n",
        "df_imputed = df.ffill().bfill()\n",
        "\n",
        "# Further impute numerical columns using KNN imputation\n",
        "num_cols = ['HR', 'EDA', 'TEMP', 'IBI', 'X', 'Y', 'Z']\n",
        "imputer = KNNImputer(n_neighbors=5)\n",
        "df_imputed[num_cols] = imputer.fit_transform(df_imputed[num_cols])\n",
        "\n",
        "# Cap outliers using the IQR method\n",
        "def cap_outliers(series):\n",
        "    Q1 = series.quantile(0.25)\n",
        "    Q3 = series.quantile(0.75)\n",
        "    IQR = Q3 - Q1\n",
        "    lower_bound = Q1 - 1.5 * IQR\n",
        "    upper_bound = Q3 + 1.5 * IQR\n",
        "    return series.clip(lower_bound, upper_bound)\n",
        "\n",
        "for col in num_cols:\n",
        "    df_imputed[col] = cap_outliers(df_imputed[col])\n",
        "\n",
        "# Save the final preprocessed dataset\n",
        "output_path = \"/content/drive/MyDrive/data/S2/Final_Preprocessed_Dataset.csv\"\n",
        "df_imputed.to_csv(output_path, index=False)\n",
        "print(\"✅ Final preprocessed dataset saved at:\", output_path)\n"
      ],
      "metadata": {
        "colab": {
          "base_uri": "https://localhost:8080/"
        },
        "id": "Tx9vNNMJM-E5",
        "outputId": "db5924d3-8537-41c8-dda9-185b903bb27d"
      },
      "execution_count": null,
      "outputs": [
        {
          "output_type": "stream",
          "name": "stdout",
          "text": [
            "✅ Final preprocessed dataset saved at: /content/drive/MyDrive/data/S2/Final_Preprocessed_Dataset.csv\n"
          ]
        }
      ]
    },
    {
      "cell_type": "code",
      "source": [],
      "metadata": {
        "id": "U7CJJX7jOzFc"
      },
      "execution_count": null,
      "outputs": []
    },
    {
      "cell_type": "markdown",
      "source": [
        "1. Raw Data and Merging\n",
        "Data Sources:\n",
        "We started with raw sensor files for each exam session (Midterm 1, Midterm 2, and Final) for a student. Each exam folder contained several CSV files for different sensors:\n",
        "\n",
        "HR.csv, EDA.csv, TEMP.csv:\n",
        "The first row contains the session’s starting Unix timestamp, and the second row contains the sampling rate (Hz). The remaining rows are sensor measurements.\n",
        "ACC.csv:\n",
        "Contains three columns (X, Y, Z) recording 3-axis accelerometer data; it follows the same metadata structure.\n",
        "IBI.csv:\n",
        "Contains two columns: the first is the time offset (in seconds) relative to the session start (obtained from the HR file) and the second is the IBI value.\n",
        "Other files (e.g., tags.csv, BVP.csv, info.txt) were not used in the merging process.\n",
        "Processing Individual Files:\n",
        "For each sensor file, we:\n",
        "\n",
        "Extracted the start time and sample rate from the first two rows.\n",
        "Computed accurate timestamps for each measurement using the metadata.\n",
        "Renamed columns appropriately (e.g., HR, EDA, TEMP for single-value sensors; X, Y, Z for accelerometer data).\n",
        "For IBI, we used the HR file’s start time (since it doesn’t include its own sampling rate) and converted the time offsets into absolute timestamps (rounded to the nearest second).\n",
        "Merging by Exam Session:\n",
        "For each exam (Midterm 1, Midterm 2, and Final), the processed sensor datasets were merged using an outer join on the Timestamp field. The timestamps were rounded to a 1-second grid and the merged data was grouped by timestamp to ensure one row per second. Each row was also labeled with the corresponding exam type.\n",
        "\n",
        "Final Merged Dataset:\n",
        "All exam sessions were then concatenated into one dataset, which is saved as Final_Merged_Dataset.csv (or, for Student 2, in your case, as saved in /content/drive/MyDrive/data/S2/Final_Merged_Dataset.csv). This dataset contains data from all sensors along with an \"Exam\" column indicating the session (e.g., \"Midterm 1\", \"Midterm 2\", \"Final\").\n",
        "\n",
        "2. Missing Data Analysis and Imputation\n",
        "Missing Values Summary:\n",
        "After merging, we observed that a high percentage of missing values existed in columns such as HR (~97%), EDA (~89%), TEMP (~89%), and IBI (~99%). This is common when merging sensors with different sampling frequencies, as they may not align perfectly in time.\n",
        "\n",
        "Imputation Strategy:\n",
        "To create a continuous, complete time series for analysis:\n",
        "\n",
        "Forward Fill and Backward Fill:\n",
        "We first applied forward-fill (ffill()) and backward-fill (bfill()) to propagate available values across missing intervals, preserving time continuity.\n",
        "KNN Imputation:\n",
        "Then, for the key numerical columns (HR, EDA, TEMP, IBI, X, Y, Z), we applied KNN imputation (with 5 neighbors) to further refine the imputation by considering similar observations.\n",
        "This two-step approach minimized missing values in the dataset.\n",
        "\n",
        "3. Outlier Handling\n",
        "Outlier Detection:\n",
        "Outliers were assessed using the Interquartile Range (IQR) method for each numerical column. This method calculates the lower and upper bounds as Q1 - 1.5 * IQR and Q3 + 1.5 * IQR, respectively.\n",
        "\n",
        "Outlier Capping:\n",
        "Instead of removing outliers, we applied Winsorization (capping) by clipping values outside the calculated bounds. This keeps extreme values in check while preserving all data points.\n",
        "\n",
        "4. Final Preprocessing Outcome\n",
        "The final preprocessed dataset now has:\n",
        "All missing values imputed using a combination of ffill/bfill and KNN imputation.\n",
        "Outliers capped based on the IQR method.\n",
        "Timestamps aligned to a consistent 1-second grid.\n",
        "Data merged across all exam sessions with an \"Exam\" label.\n",
        "This cleaned dataset is saved as Final_Preprocessed_Dataset.csv and is ready for further steps such as feature engineering and modeling.\n"
      ],
      "metadata": {
        "id": "6WmXnci2QlFY"
      }
    },
    {
      "cell_type": "markdown",
      "source": [
        "# explained\n",
        "\n",
        "\n",
        "Type of Missing Data:\n",
        "\n",
        "The high missing percentages in HR, EDA, TEMP, and IBI primarily result from asynchronous sampling—the sensors record at different frequencies and time windows. This leads to many time points where one sensor has data while another does not.\n",
        "This pattern is generally Missing At Random (MAR) because the missingness is due to how the data was collected (different sampling rates and timing), not because of some systematic error in the measurements themselves.\n",
        "Why KNN Imputation?\n",
        "\n",
        "We chose KNN imputation because it leverages the similarity among observations across multiple features. In our dataset, even though many values were missing due to timing differences, there is still structure in the data that KNN can use to estimate missing values more accurately than simple mean or median imputation.\n",
        "Downsampling/Resampling:\n",
        "\n",
        "Since sensors like EDA, TEMP, and ACC are sampled at much higher frequencies than HR, we needed to align them on a common time grid.\n",
        "This was done by rounding all timestamps to the nearest second and then grouping by Timestamp (using the mean of values) to produce a 1‑Hz time series. This step ensures that all sensor measurements are synchronized in time for subsequent analysis.\n",
        "Why Not Exclude Outliers?\n",
        "\n",
        "Excluding outliers outright can remove important extreme values that might represent genuine physiological responses.\n",
        "Instead, we chose to cap outliers using the IQR method (Winsorization). This approach limits extreme values while retaining the overall distribution and preserving all data points for analysis."
      ],
      "metadata": {
        "id": "cNRMWVmYQ9Nu"
      }
    },
    {
      "cell_type": "code",
      "source": [
        "import pandas as pd\n",
        "from sklearn.preprocessing import StandardScaler\n",
        "\n",
        "# Load the final preprocessed dataset (with missing values imputed and outliers capped)\n",
        "input_path = \"/content/drive/MyDrive/data/S2/Final_Preprocessed_Dataset.csv\"\n",
        "df = pd.read_csv(input_path)\n",
        "df['Timestamp'] = pd.to_datetime(df['Timestamp'])\n",
        "df = df.sort_values(\"Timestamp\").reset_index(drop=True)\n",
        "\n",
        "# Define numerical columns for scaling\n",
        "num_cols = ['HR', 'EDA', 'TEMP', 'IBI', 'X', 'Y', 'Z']\n",
        "\n",
        "# Initialize StandardScaler and scale numerical features\n",
        "scaler = StandardScaler()\n",
        "df_scaled = df.copy()\n",
        "df_scaled[num_cols] = scaler.fit_transform(df[num_cols])\n",
        "\n",
        "# Save the final scaled dataset\n",
        "output_scaled_path = \"/content/drive/MyDrive/data/S2/Final_Preprocessed_Scaled_Dataset.csv\"\n",
        "df_scaled.to_csv(output_scaled_path, index=False)\n",
        "print(\"✅ Final scaled dataset saved at:\", output_scaled_path)\n"
      ],
      "metadata": {
        "colab": {
          "base_uri": "https://localhost:8080/"
        },
        "id": "y5AVCp6JTN42",
        "outputId": "152375a9-d295-43c0-9eee-591c77be9719"
      },
      "execution_count": null,
      "outputs": [
        {
          "output_type": "stream",
          "name": "stdout",
          "text": [
            "✅ Final scaled dataset saved at: /content/drive/MyDrive/data/S2/Final_Preprocessed_Scaled_Dataset.csv\n"
          ]
        }
      ]
    },
    {
      "cell_type": "markdown",
      "source": [
        "Normalization/Scaling:\n",
        "\n",
        "Why?\n",
        "The physiological sensors capture values on different scales (for example, HR might be in beats per minute while accelerometer readings are in fractions of g). Many machine learning algorithms perform better when features are on a similar scale.\n",
        "How?\n",
        "We use the StandardScaler from scikit-learn to standardize each numerical feature so that they have a mean of 0 and a standard deviation of 1.\n",
        "Sorting & Saving:\n",
        "\n",
        "We sort the dataset by the Timestamp to ensure the time-series order is preserved.\n",
        "The final dataset, now scaled and complete, is saved as Final_Preprocessed_Scaled_Dataset.csv. This dataset is now fully preprocessed and ready for feature engineering and modeling."
      ],
      "metadata": {
        "id": "xa6TGSMyTidc"
      }
    },
    {
      "cell_type": "markdown",
      "source": [
        "Heart Rate Variability (HRV):\n",
        "\n",
        "Kim, H.G., Cheon, E.J., Bai, D.S., Lee, Y.H., & Koo, B.H. (2018). Stress and Heart Rate Variability: A Meta-Analysis and Review of the Literature.\n",
        "This paper provides an in-depth review of HRV as a reliable marker of stress, explaining that changes in HRV reflect autonomic nervous system balance and are associated with cognitive and emotional stress.\n",
        "link :- https://pubmed.ncbi.nlm.nih.gov/29486547/\n",
        "\n",
        "\n",
        "Electrodermal Activity (EDA):\n",
        "\n",
        "Critchley, H.D. (2002). Electrodermal responses: what happens in the brain?\n",
        "This review discusses how EDA is linked to emotional processing and stress, making it a valuable index for assessing sympathetic nervous system activity.\n",
        "\n",
        "link https://pubmed.ncbi.nlm.nih.gov/11954558/\n",
        "\n",
        "\n",
        "Skin Temperature:\n",
        "\n",
        "Kreibig, S.D. (2010). Autonomic nervous system activity in emotion: A review.\n",
        "This article reviews various physiological markers of emotion, including skin temperature, and explains how these measures can change under stress.\n",
        "\n",
        "link https://pubmed.ncbi.nlm.nih.gov/20371374/\n",
        "\n",
        "\n",
        "Accelerometer Data for Stress Detection:\n",
        "\n",
        "Healey, J., & Picard, R.W. (2005). Detecting stress during real-world driving tasks using physiological sensors.\n",
        "This study demonstrates that motion patterns captured by accelerometers can provide insight into behavioral responses to stress.\n",
        "link https://ieeexplore.ieee.org/document/1438384\n",
        "\n",
        "\n",
        "\n",
        "Collectively, these references justify our feature engineering approach:\n",
        "\n",
        "HRV (calculated via rolling mean and standard deviation of HR or IBI) is used because it captures the dynamic balance between sympathetic and parasympathetic nervous system activity, a known stress indicator.\n",
        "EDA features (such as moving averages and variability) capture the skin’s conductance response, which correlates with emotional arousal and stress.\n",
        "Skin Temperature features are included because temperature can change with stress, reflecting alterations in blood flow and thermoregulation.\n",
        "Accelerometer data (vector magnitude and its variability) provides information on physical movement and restlessness, which are often linked to stress and anxiety."
      ],
      "metadata": {
        "id": "kwKoMLvnUgjZ"
      }
    },
    {
      "cell_type": "markdown",
      "source": [
        "Our research question is:\n",
        "\"How do physiological stress levels during an exam impact student performance, and can we predict exam scores based on these stress indicators?\"\n",
        "\n",
        "To answer this, we need to extract features that capture stress responses from the sensor data. For example:\n",
        "\n",
        "Heart Rate (HR) Variability:\n",
        "Variations in heart rate can indicate stress. A higher variability sometimes reflects a relaxed state, but under stress, the pattern may change. We compute rolling mean and standard deviation (as an approximation for HR variability).\n",
        "\n",
        "Electrodermal Activity (EDA):\n",
        "EDA reflects changes in skin conductance due to sweating—a known marker of arousal or stress. We compute rolling averages and variability.\n",
        "\n",
        "link https://pubmed.ncbi.nlm.nih.gov/11954558/\n",
        "\n",
        "Temperature (TEMP):\n",
        "Skin temperature may shift during stress. Rolling averages help capture these trends.\n",
        "\n",
        "Accelerometer (ACC) Data:\n",
        "Movement (captured via 3-axis accelerometer data) can be a proxy for nervousness or restlessness. We compute the vector magnitude (√(X²+Y²+Z²)) and then its rolling mean and standard deviation to summarize overall activity.\n",
        "\n",
        "These engineered features are directly related to stress physiology. In subsequent modeling steps, these features may be used to predict exam performance."
      ],
      "metadata": {
        "id": "lodVPt6nUONl"
      }
    },
    {
      "cell_type": "code",
      "source": [
        "import pandas as pd\n",
        "import numpy as np\n",
        "import matplotlib.pyplot as plt\n",
        "import seaborn as sns\n",
        "\n",
        "# Load the preprocessed and scaled dataset\n",
        "input_path = \"/content/drive/MyDrive/data/S2/Final_Preprocessed_Scaled_Dataset.csv\"\n",
        "df = pd.read_csv(input_path, parse_dates=[\"Timestamp\"])\n",
        "df.sort_values(\"Timestamp\", inplace=True)\n",
        "df.reset_index(drop=True, inplace=True)"
      ],
      "metadata": {
        "id": "Yyvtd_TdUjya"
      },
      "execution_count": null,
      "outputs": []
    },
    {
      "cell_type": "code",
      "source": [
        "window = 30"
      ],
      "metadata": {
        "id": "62S7nHaIV4Vm"
      },
      "execution_count": null,
      "outputs": []
    },
    {
      "cell_type": "code",
      "source": [
        "# --- Heart Rate Features ---\n",
        "# Rolling mean (average HR over 30 sec) and standard deviation (proxy for HR variability)\n",
        "df[\"HR_mean\"] = df[\"HR\"].rolling(window=window, min_periods=1).mean()\n",
        "df[\"HR_std\"] = df[\"HR\"].rolling(window=window, min_periods=1).std()"
      ],
      "metadata": {
        "id": "Ga5UrV_TV-vs"
      },
      "execution_count": null,
      "outputs": []
    },
    {
      "cell_type": "code",
      "source": [
        "# --- Electrodermal Activity (EDA) Features ---\n",
        "# Rolling mean and standard deviation capture overall arousal levels and variability\n",
        "df[\"EDA_mean\"] = df[\"EDA\"].rolling(window=window, min_periods=1).mean()\n",
        "df[\"EDA_std\"] = df[\"EDA\"].rolling(window=window, min_periods=1).std()"
      ],
      "metadata": {
        "id": "G17gt8-VWCIU"
      },
      "execution_count": null,
      "outputs": []
    },
    {
      "cell_type": "code",
      "source": [
        "\n",
        "# --- Temperature (TEMP) Features ---\n",
        "# Rolling statistics help detect trends and fluctuations in skin temperature\n",
        "df[\"TEMP_mean\"] = df[\"TEMP\"].rolling(window=window, min_periods=1).mean()\n",
        "df[\"TEMP_std\"] = df[\"TEMP\"].rolling(window=window, min_periods=1).std()\n"
      ],
      "metadata": {
        "id": "MxjmMGDhWE8i"
      },
      "execution_count": null,
      "outputs": []
    },
    {
      "cell_type": "code",
      "source": [
        "# --- Accelerometer (ACC) Features ---\n",
        "# Calculate vector magnitude from X, Y, Z as an overall measure of movement\n",
        "df[\"ACC_mag\"] = np.sqrt(df[\"X\"]**2 + df[\"Y\"]**2 + df[\"Z\"]**2)\n",
        "df[\"ACC_mag_mean\"] = df[\"ACC_mag\"].rolling(window=window, min_periods=1).mean()\n",
        "df[\"ACC_mag_std\"] = df[\"ACC_mag\"].rolling(window=window, min_periods=1).std()"
      ],
      "metadata": {
        "id": "angnkaLzWGu0"
      },
      "execution_count": null,
      "outputs": []
    },
    {
      "cell_type": "code",
      "source": [
        "# --- IBI Features ---\n",
        "# Rolling mean and standard deviation for IBI can capture changes in heart beat intervals (HRV)\n",
        "df[\"IBI_mean\"] = df[\"IBI\"].rolling(window=window, min_periods=1).mean()\n",
        "df[\"IBI_std\"] = df[\"IBI\"].rolling(window=window, min_periods=1).std()"
      ],
      "metadata": {
        "id": "hVBuDfPgWJFK"
      },
      "execution_count": null,
      "outputs": []
    },
    {
      "cell_type": "code",
      "source": [
        "# Save the dataset with engineered features\n",
        "output_featured_path = \"/content/drive/MyDrive/data/S2/Final_Featured_Dataset.csv\"\n",
        "df.to_csv(output_featured_path, index=False)\n",
        "print(\"✅ Final dataset with engineered features saved at:\", output_featured_path)"
      ],
      "metadata": {
        "colab": {
          "base_uri": "https://localhost:8080/"
        },
        "id": "quEQ-oZCWJH8",
        "outputId": "46bc7a63-0210-4ff7-853d-4d5431b8e953"
      },
      "execution_count": null,
      "outputs": [
        {
          "output_type": "stream",
          "name": "stdout",
          "text": [
            "✅ Final dataset with engineered features saved at: /content/drive/MyDrive/data/S2/Final_Featured_Dataset.csv\n"
          ]
        }
      ]
    },
    {
      "cell_type": "markdown",
      "source": [
        "Explanation of Feature Engineering Steps\n",
        "Heart Rate Features (HR_mean, HR_std):\n",
        "\n",
        "Why? Heart rate variability is a well-established indicator of stress. A high variability under certain conditions may indicate a relaxed state, while lower variability can be a sign of stress.\n",
        "How? We compute the rolling mean to capture average HR over a 30‑second window and the rolling standard deviation as a proxy for HR variability.\n",
        "EDA Features (EDA_mean, EDA_std):\n",
        "\n",
        "Why? EDA reflects changes in skin conductance linked to sweating, which increases with stress.\n",
        "How? Rolling averages and standard deviations of EDA over 30 seconds capture both the overall arousal level and the variability that may indicate stress spikes.\n",
        "Temperature Features (TEMP_mean, TEMP_std):\n",
        "\n",
        "Why? Skin temperature can shift in response to stress, reflecting changes in blood flow and metabolic activity.\n",
        "How? We use a 30‑second rolling window to smooth out transient fluctuations and highlight longer-term trends.\n",
        "Accelerometer Features (ACC_mag, ACC_mag_mean, ACC_mag_std):\n",
        "\n",
        "Why? Movement or restlessness (captured by the accelerometer) can indicate nervousness or agitation, which are common stress responses.\n",
        "How? We first compute the vector magnitude of the three axes (X, Y, Z) to summarize overall movement. Then, we compute rolling statistics to capture the dynamics of movement.\n",
        "IBI Features (IBI_mean, IBI_std):\n",
        "\n",
        "Why? The variability in inter-beat intervals (IBI) is another indicator of stress (heart rate variability).\n",
        "How? Rolling mean and standard deviation of IBI provide insights into how the timing between heartbeats changes over time.\n",
        "These features are designed to capture the physiological responses to stress. They are directly related to our research question about how stress levels during an exam impact performance. Once we have these features, they can be used in predictive models to explore and possibly predict exam scores."
      ],
      "metadata": {
        "id": "crECim-8WVJb"
      }
    },
    {
      "cell_type": "markdown",
      "source": [
        "Our research question is:\n",
        "\"How do physiological stress levels during an exam impact student performance, and can we predict exam scores based on these stress indicators?\"\n",
        "\n",
        "Our engineered features (e.g., HR_mean, HR_std, EDA_mean, EDA_std, etc.) capture dynamic physiological signals over time. To use these in prediction models, we need to ensure the time series are well-behaved and to understand their temporal patterns. The key steps include:\n",
        "\n",
        "Stationarity Check:\n",
        "\n",
        "What & Why:\n",
        "We test if the time series (e.g., HR_std or EDA_mean) have a constant mean and variance over time. Many time series models (e.g., ARIMA) assume stationarity.\n",
        "How:\n",
        "Use the Augmented Dickey-Fuller (ADF) test to check for stationarity. If the p-value is low (typically < 0.05), the series is stationary.\n",
        "ACF and PACF Plots:\n",
        "\n",
        "What & Why:\n",
        "Autocorrelation (ACF) and partial autocorrelation (PACF) plots help us understand temporal dependencies in the data. This can guide model selection (e.g., identifying AR and MA orders for an ARIMA model).\n",
        "Time Series Modeling for Prediction:\n",
        "\n",
        "Once the time series properties are understood, we can build predictive models. For example, if our series are stationary (or can be made stationary), we could apply ARIMA models or even simpler regression models that incorporate temporal features to predict exam scores.\n",
        "Alternatively, if more complexity is needed, deep learning models (like LSTM) can capture temporal dynamics"
      ],
      "metadata": {
        "id": "hizfinLHXuRb"
      }
    },
    {
      "cell_type": "markdown",
      "source": [
        "In our next steps, we’ll perform some simple tests (like the ADF test) and plot ACF/PACF for a key feature. This will help ensure the data is ready for time series modeling."
      ],
      "metadata": {
        "id": "362JkwTrXxJf"
      }
    },
    {
      "cell_type": "code",
      "source": [
        "import seaborn as sns\n",
        "from statsmodels.tsa.stattools import adfuller\n",
        "from statsmodels.graphics.tsaplots import plot_acf, plot_pacf"
      ],
      "metadata": {
        "id": "bEZvY6lvWJKc"
      },
      "execution_count": null,
      "outputs": []
    },
    {
      "cell_type": "code",
      "source": [
        "input_path = \"/content/drive/MyDrive/data/S2/Final_Featured_Dataset.csv\"\n",
        "df = pd.read_csv(input_path, parse_dates=[\"Timestamp\"])\n",
        "df.sort_values(\"Timestamp\", inplace=True)\n",
        "df.reset_index(drop=True, inplace=True)"
      ],
      "metadata": {
        "id": "1_T81DCMWJN1"
      },
      "execution_count": null,
      "outputs": []
    },
    {
      "cell_type": "code",
      "source": [
        "import pandas as pd\n",
        "import matplotlib.pyplot as plt\n",
        "import seaborn as sns\n",
        "from statsmodels.tsa.stattools import adfuller\n",
        "from statsmodels.graphics.tsaplots import plot_acf, plot_pacf\n",
        "\n",
        "# Load the dataset (update path as needed)\n",
        "file_path = \"/content/drive/MyDrive/data/S2/Final_Featured_Dataset.csv\"\n",
        "df = pd.read_csv(file_path, parse_dates=[\"Timestamp\"])\n",
        "df.sort_values(\"Timestamp\", inplace=True)\n",
        "df.reset_index(drop=True, inplace=True)\n",
        "\n",
        "# Example: Using the EDA_mean feature for stationarity analysis\n",
        "# (If you haven't computed EDA_mean yet, you can use EDA directly.)\n",
        "if \"EDA_mean\" not in df.columns:\n",
        "    df[\"EDA_mean\"] = df[\"EDA\"]\n",
        "\n",
        "time_series = df.set_index(\"Timestamp\")[\"EDA_mean\"]\n",
        "\n",
        "# 1. Check stationarity using the Augmented Dickey-Fuller (ADF) test\n",
        "adf_result = adfuller(time_series.dropna())\n",
        "print(\"ADF Statistic: %f\" % adf_result[0])\n",
        "print(\"p-value: %f\" % adf_result[1])\n",
        "if adf_result[1] < 0.05:\n",
        "    print(\"✅ The series is stationary.\")\n",
        "else:\n",
        "    print(\"⚠️ The series is not stationary. Differencing or detrending may be needed.\")\n",
        "\n",
        "# 2. Plot the time series\n",
        "plt.figure(figsize=(12,6))\n",
        "plt.plot(time_series.index, time_series, label=\"EDA_mean\")\n",
        "plt.title(\"Time Series of EDA_mean\")\n",
        "plt.xlabel(\"Timestamp\")\n",
        "plt.ylabel(\"EDA_mean\")\n",
        "plt.legend()\n",
        "plt.show()\n",
        "\n",
        "# 3. Plot ACF and PACF\n",
        "plt.figure(figsize=(12,5))\n",
        "plot_acf(time_series.dropna(), lags=50, alpha=0.05)\n",
        "plt.title(\"ACF of EDA_mean\")\n",
        "plt.show()\n",
        "\n",
        "plt.figure(figsize=(12,5))\n",
        "plot_pacf(time_series.dropna(), lags=50, alpha=0.05, method=\"ywm\")\n",
        "plt.title(\"PACF of EDA_mean\")\n",
        "plt.show()"
      ],
      "metadata": {
        "id": "mrSPT13tYC4i"
      },
      "execution_count": null,
      "outputs": []
    }
  ]
}